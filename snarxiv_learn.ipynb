{
 "cells": [
  {
   "cell_type": "markdown",
   "metadata": {
    "slideshow": {
     "slide_type": "slide"
    }
   },
   "source": [
    "<img src=\"pics/arxiv_vs_snarxiv_logo.png\" width=300>\n",
    "\n",
    "# Can snarXiv-vs-arXiv be learned?\n",
    "\n",
    "**Background**  \n",
    "The [snarXiv-vs-arXiv](http://snarxiv.org/vs-arxiv/) website challenges you to tell fake physics research articles from real ones. Real paper titles are taken from [arXiv](https://arxiv.org/), fake titles are produced by a so-called context-free grammar. The snarXiv code is freely available ([link](https://github.com/davidsd/snarxiv)). \n",
    "\n",
    "**Aim**  \n",
    "Develop a supervised learning algorithm to correctly classify arXiv vs. snarXiv titles.\n",
    "\n",
    "**Method**  \n",
    "- use requests (or selenium webdriver) to scrape a number of titles from the website and parse the correct labels; save this dataset for training/testing\n",
    "- natural-language processing (NLP): transform the paper titles into a bag-of-words (BOW) model using the scikit-learn CountVectorizer\n",
    "- train and optimize a classifier (scikit-learn)\n",
    "- testing: apply the learned classifier to the snarXiv website\n",
    "\n",
    "**Results**  \n",
    "- classifiers reach around 90% accuracy on test data sets"
   ]
  },
  {
   "cell_type": "code",
   "execution_count": 2,
   "metadata": {
    "slideshow": {
     "slide_type": "slide"
    }
   },
   "outputs": [],
   "source": [
    "import numpy as np\n",
    "import matplotlib.pyplot as plt\n",
    "import pandas as pd\n",
    "import pickle\n",
    "import requests # 2.27.1\n",
    "from tqdm import tqdm\n",
    "#from selenium import webdriver # not used in the kaggle version of this notebook\n",
    "import xml.etree.ElementTree as ET"
   ]
  },
  {
   "cell_type": "markdown",
   "metadata": {
    "slideshow": {
     "slide_type": "slide"
    }
   },
   "source": [
    "## Download a training data set (*optional*)\n",
    "\n",
    "This step is optional, the repo already contains a training data set. The function below scrapes `2*n_total` titles from http://snarxiv.org/vs-arxiv/ which are correctly labelled as arXiv (real) or snarXiv (fake).  \n",
    "The results are stored in a Python dictionary (and optionally written to a file). "
   ]
  },
  {
   "cell_type": "code",
   "execution_count": null,
   "metadata": {
    "code_folding": [],
    "slideshow": {
     "slide_type": "subslide"
    }
   },
   "outputs": [],
   "source": [
    "def download(n_total=10, verbose=False):\n",
    "    \"\"\"\n",
    "    Download 2n samples from: http://snarxiv.org/vs-arxiv\"\n",
    "    The website http://snarxiv.org/vs-arxiv/ generates pairs of \n",
    "    arXiv/snarXiv titles by calling the server-side Python script\n",
    "    http://snarxiv.org/py/fight.py which returns XML data.\n",
    "    The XML data contains tags 'arxiv' and 'snarxiv', each of \n",
    "    which has a 'title' tag, corresponding to arXiv (real) and \n",
    "    snarXiv (fake) paper titles.\n",
    "    \"\"\"\n",
    "    url = \"http://snarxiv.org/py/fight.py\"\n",
    "    real_titles = []\n",
    "    fake_titles = []\n",
    "    for i in tqdm(range(n_total)):\n",
    "        txt = requests.get(url).content\n",
    "        root = ET.fromstring(txt)\n",
    "        real_titles.append(root.find('arxiv').find('title').text)\n",
    "        fake_titles.append(root.find('snarxiv').find('title').text)\n",
    "\n",
    "    # review results\n",
    "    if verbose:\n",
    "        print(\"\\n[+] Real titles\")\n",
    "        for i, title in enumerate(real_titles):\n",
    "            print(f\"\\n#{i:d}\\n{title:s}\")\n",
    "\n",
    "        print(\"\\n[+] Fake titles\")\n",
    "        for i, title in enumerate(fake_titles):\n",
    "            print(f\"\\n#{i:d}\\n{title:s}\")\n",
    "\n",
    "    # save\n",
    "    f_out = f\"./data/training_data.pkl\"\n",
    "    d = {'real' : real_titles, 'fake' : fake_titles}\n",
    "    with open(f_out, \"wb\") as fp:\n",
    "        pickle.dump(d, fp, pickle.HIGHEST_PROTOCOL)\n",
    "    return real_titles, fake_titles\n",
    "\n",
    "real, fake = download(n_total=100, verbose=False)\n",
    "print(\"Training data downloaded.\")"
   ]
  },
  {
   "cell_type": "markdown",
   "metadata": {
    "slideshow": {
     "slide_type": "slide"
    }
   },
   "source": [
    "## Load standard training data set\n",
    "If you haven't downloaded your own training data set, you can work with the standard training data set."
   ]
  },
  {
   "cell_type": "code",
   "execution_count": 3,
   "metadata": {
    "code_folding": [],
    "slideshow": {
     "slide_type": "subslide"
    }
   },
   "outputs": [
    {
     "name": "stdout",
     "output_type": "stream",
     "text": [
      "Loaded n=1000 real and n=1000 fake samples.\n"
     ]
    }
   ],
   "source": [
    "def load_training_data(filename):\n",
    "    \"\"\"\n",
    "    re-load and analyze samples\n",
    "    \"\"\"\n",
    "    with open(filename, \"rb\") as fp:\n",
    "        d = pickle.load(fp, encoding='latin1')\n",
    "    real = d['real']\n",
    "    fake = d['fake']\n",
    "    print(f\"Loaded n={len(real):d} real and n={len(fake):d} fake samples.\")\n",
    "    return real, fake\n",
    "\n",
    "f_data = f\"data/training_data_std.pkl\"  # 1000 titles each\n",
    "real, fake = load_training_data(f_data)"
   ]
  },
  {
   "cell_type": "markdown",
   "metadata": {
    "slideshow": {
     "slide_type": "slide"
    }
   },
   "source": [
    "## Examples\n",
    "To better understand the problem, let's have a look at a few titles. Most people have difficulties deciding which titles stem from real papers and which were produced by the context-free grammar. "
   ]
  },
  {
   "cell_type": "code",
   "execution_count": 4,
   "metadata": {
    "slideshow": {
     "slide_type": "subslide"
    }
   },
   "outputs": [
    {
     "name": "stdout",
     "output_type": "stream",
     "text": [
      "Some real (arXiv) examples: \n",
      "==============================\n",
      "#0: Exact Effective Action for (1+1 Dimensional) Fermions in an Abelian Background at Finite Temperature\n",
      "#1: Four Quark Cn - Nbar Cbar States in U(12)-Scheme and X(3872)/Y(3940)\n",
      "#2: A Heavy Higgs and a Light Sneutrino NLSP in the MSSM With Enhanced SU(2) D-terms\n",
      "#3: Exact Analytic Two-loop Expressions for Some QCD Observables in the Time-like Region\n",
      "#4: Lattice Ising Model in a Field: E$_8$ Scattering Theory\n",
      "#5: Index Theory, Gerbes, and Hamiltonian Quantization\n",
      "#6: Consistent Decoupling of Heavy Scalars and Moduli in N=1 Supergravity\n",
      "#7: A Ten-Dimensional Super-Yang-Mills Action With Off-Shell Supersymmetry\n",
      "#8: Deformed Poincare Algebra and Field Theory\n",
      "#9: NNLO QCD Corrections to the B -> X_s Gamma Matrix Elements Using Interpolation in M_c\n",
      "\n",
      "Some fake (snarXiv) examples: \n",
      "==============================\n",
      "#0: On Invertible QED_3\n",
      "#1: Anomaly Matching in Deformed QFTs\n",
      "#2: The Multi-field Solution to the LHC Inverse Problem From Inflaton Models (Including the Lithium Problem)\n",
      "#3: The Holographic Entanglement of Purification of De Sitter Space in a Nonperturbative Nonperturbative Twisted QFT\n",
      "#4: Models of Ghosts in Causality\n",
      "#5: Understanding Type I Strings Minimizes Monstrous Moonshine in the CP9 Model\n",
      "#6: Central Charges on Hirzebruch Surfaces\n",
      "#7: Bubbles in the Early Universe Are Transverse\n",
      "#8: The Reduction of Bosonic Strings on C^9\n",
      "#9: Seesaw Approaches to the Black-hole Information Problem\n"
     ]
    }
   ],
   "source": [
    "print(\"Some real (arXiv) examples: \\n\" + 30*\"=\")\n",
    "for i, r in enumerate(real[:10]): print(f\"#{i:d}: {r.strip():s}\", end=\"\\n\")\n",
    "print(\"\\nSome fake (snarXiv) examples: \\n\" + 30*\"=\")\n",
    "for i, f in enumerate(fake[:10]): print(f\"#{i:d}: {f.strip():s}\", end=\"\\n\")"
   ]
  },
  {
   "cell_type": "markdown",
   "metadata": {
    "slideshow": {
     "slide_type": "slide"
    }
   },
   "source": [
    "## Text pre-processing\n",
    "NLP algorithms usually pre-process text data. Common pre-processing steps involve:\n",
    "- removal of punctuation (e.g.: ,.;!?)\n",
    "- stemming (e.g. [NLTK package](https://www.nltk.org/howto/stem.html))\n",
    "\n",
    "Here, we will just apply a very basic pre-processing:\n",
    "1. Strip trailing \"\\n\" characters\n",
    "2. Replace \"blank-dash-blank\" by \"dash\", e.g. \"Quark Cn - Nbar Cbar States\" => \"Quark Cn-Nbar Cbar States\"\n",
    "3. Replace \"blank-arrow-blank\" by \"arrow\", e.g. \"the B -> X_s Gamma Matrix\" => \"the B->X_s Gamma Matrix\"\n",
    "4. Convert all expressions to lowercase\n",
    "\n",
    "Points 2. and 3. are necessary to avoid splitting expressions such as \"Cn - Nbar\" into [\"Cn\", \"-\", \"Nbar\"] when titles will be processed by the vectorizer. "
   ]
  },
  {
   "cell_type": "code",
   "execution_count": 5,
   "metadata": {
    "slideshow": {
     "slide_type": "subslide"
    }
   },
   "outputs": [],
   "source": [
    "preprocess = lambda s: s.strip().replace(\" - \", \"-\").replace(\" -> \", \"->\").lower()"
   ]
  },
  {
   "cell_type": "code",
   "execution_count": 6,
   "metadata": {},
   "outputs": [],
   "source": [
    "def preprocess2(s):\n",
    "    \"\"\"\n",
    "    A (slightly) more advanced pre-processor, excluding some simple words\n",
    "    \"\"\"\n",
    "    t = s.strip().replace(\" - \", \"-\").replace(\" -> \", \"->\").lower()\n",
    "    exclude_list = [' and ',' are ',' for ',' in ',' of ',' on ','on ',' over ',' the ',' vs ']\n",
    "    for w in exclude_list:\n",
    "        t = t.replace(w, '')\n",
    "    return t"
   ]
  },
  {
   "cell_type": "markdown",
   "metadata": {
    "slideshow": {
     "slide_type": "slide"
    }
   },
   "source": [
    "## Collate all titles and target labels"
   ]
  },
  {
   "cell_type": "code",
   "execution_count": 7,
   "metadata": {
    "code_folding": [],
    "slideshow": {
     "slide_type": "subslide"
    }
   },
   "outputs": [],
   "source": [
    "def get_titles_labels(real, fake):\n",
    "    \"\"\"\n",
    "    Return a list of all titles (real and fake) and a list of the corresponding target labels (1: real, 0: fake)\n",
    "    \"\"\"\n",
    "    all_titles = [preprocess(title) for title in real+fake]\n",
    "    y = np.concatenate( (np.ones(len(real)), np.zeros(len(fake))) ) # target values (real: 1, fake: 0)\n",
    "    return all_titles, y\n",
    "\n",
    "titles, y = get_titles_labels(real, fake)"
   ]
  },
  {
   "cell_type": "markdown",
   "metadata": {
    "slideshow": {
     "slide_type": "slide"
    }
   },
   "source": [
    "## Train-test split\n",
    "Do an 80-20 split on the data, retaining 20% for final performance evaluation."
   ]
  },
  {
   "cell_type": "code",
   "execution_count": 8,
   "metadata": {
    "slideshow": {
     "slide_type": "subslide"
    }
   },
   "outputs": [],
   "source": [
    "from sklearn.model_selection import train_test_split #, StratifiedShuffleSplit\n",
    "titles_train, titles_test, y_train, y_test = train_test_split(titles, y, test_size=0.2, random_state=1)"
   ]
  },
  {
   "cell_type": "markdown",
   "metadata": {
    "slideshow": {
     "slide_type": "slide"
    }
   },
   "source": [
    "## Vectorizer transform\n",
    "Next, the text data will be transformed to numbers, in order to work with numerical methods such as logistic regression, among others.  \n",
    "\n",
    "**Options**:\n",
    "- CountVectorizer\n",
    "- TfidfVectorizer\n",
    "\n",
    "**Note:** The vectorizer is trained on the *complete* data set. If the vectorizer is built on the training data set alone, some words in the testing data set may not be recognized."
   ]
  },
  {
   "cell_type": "code",
   "execution_count": 10,
   "metadata": {
    "slideshow": {
     "slide_type": "subslide"
    }
   },
   "outputs": [
    {
     "name": "stdout",
     "output_type": "stream",
     "text": [
      "Vocabulary size:  2000  words.\n"
     ]
    }
   ],
   "source": [
    "from sklearn.feature_extraction.text import CountVectorizer, TfidfVectorizer\n",
    "vectorizer = CountVectorizer(max_features=2000)\n",
    "#vectorizer = TfidfVectorizer(max_features=2000)\n",
    "vectorizer.fit(titles) # titles_train\n",
    "voc = vectorizer.vocabulary_\n",
    "print(\"Vocabulary size: \", len(voc), \" words.\")"
   ]
  },
  {
   "cell_type": "markdown",
   "metadata": {
    "slideshow": {
     "slide_type": "slide"
    }
   },
   "source": [
    "### Apply vectorizer to train and test data"
   ]
  },
  {
   "cell_type": "code",
   "execution_count": 11,
   "metadata": {
    "slideshow": {
     "slide_type": "subslide"
    }
   },
   "outputs": [
    {
     "name": "stdout",
     "output_type": "stream",
     "text": [
      "Training and test data vectorized. (1600, 2000) (400, 2000)\n"
     ]
    }
   ],
   "source": [
    "X_train = vectorizer.transform(titles_train)\n",
    "X_test = vectorizer.transform(titles_test)\n",
    "print(\"Training and test data vectorized.\", X_train.shape, X_test.shape)"
   ]
  },
  {
   "cell_type": "markdown",
   "metadata": {
    "slideshow": {
     "slide_type": "slide"
    }
   },
   "source": [
    "**Side note:** What does the vectorizer do?"
   ]
  },
  {
   "cell_type": "code",
   "execution_count": 102,
   "metadata": {
    "code_folding": [],
    "slideshow": {
     "slide_type": "subslide"
    }
   },
   "outputs": [
    {
     "name": "stdout",
     "output_type": "stream",
     "text": [
      "\n",
      "Vocabulary dict:  {'this': 4, 'book': 0, 'is': 1, 'not': 3, 'my': 2}\n",
      "\n",
      "Sentences transformed to array:\n",
      " [[2 1 1 1 1]\n",
      " [2 1 1 0 1]\n",
      " [1 1 0 1 1]]\n",
      "\n",
      "Explanation: \n",
      "\n",
      "Sentence 0: 'this book is not my book' has been encoded as:  [2 1 1 1 1]\n",
      "because it has:\n",
      "2 instances of 'book' and voc2['book'] is 0\n",
      "1 instances of 'is' and voc2['is'] is 1\n",
      "1 instances of 'my' and voc2['my'] is 2\n",
      "1 instances of 'not' and voc2['not'] is 3\n",
      "1 instances of 'this' and voc2['this'] is 4\n",
      "\n",
      "Sentence 1: 'this book is my book' has been encoded as:  [2 1 1 0 1]\n",
      "because it has:\n",
      "2 instances of 'book' and voc2['book'] is 0\n",
      "1 instances of 'is' and voc2['is'] is 1\n",
      "1 instances of 'my' and voc2['my'] is 2\n",
      "0 instances of 'not' and voc2['not'] is 3\n",
      "1 instances of 'this' and voc2['this'] is 4\n",
      "\n",
      "Sentence 2: 'this is not a book' has been encoded as:  [1 1 0 1 1]\n",
      "because it has:\n",
      "1 instances of 'book' and voc2['book'] is 0\n",
      "1 instances of 'is' and voc2['is'] is 1\n",
      "0 instances of 'my' and voc2['my'] is 2\n",
      "1 instances of 'not' and voc2['not'] is 3\n",
      "1 instances of 'this' and voc2['this'] is 4\n"
     ]
    }
   ],
   "source": [
    "# count vectorizer explanation\n",
    "\n",
    "# example sentences\n",
    "X = [\"this book is not my book\", \"this book is my book\", \"this is not a book\"]\n",
    "vec2 = CountVectorizer().fit(X)\n",
    "voc2 = vec2.vocabulary_\n",
    "print(\"\\nVocabulary dict: \", voc2)\n",
    "Y = vec2.transform(X).toarray()\n",
    "print(\"\\nSentences transformed to array:\\n\", Y)\n",
    "\n",
    "print(\"\\nExplanation: \")\n",
    "voc2_inv = {v: k for k, v in voc2.items()} # inverse vocabulary\n",
    "for i, x in enumerate(X):\n",
    "    y = Y[i,:]\n",
    "    print(f\"\\nSentence {i:d}: '{x:s}' has been encoded as: \", y)\n",
    "    print(f\"because it has:\")\n",
    "    for j, yj in enumerate(y):\n",
    "        print(f\"{yj:d} instance(s) of '{voc2_inv[j]:s}' and voc2['{voc2_inv[j]:s}'] is {voc2[voc2_inv[j]]:d}\")\n",
    "del X, Y"
   ]
  },
  {
   "cell_type": "markdown",
   "metadata": {
    "slideshow": {
     "slide_type": "slide"
    }
   },
   "source": [
    "## First ML approach: logistic regression\n",
    "\n",
    "Data and target labels are prepared, time to train a classifier."
   ]
  },
  {
   "cell_type": "code",
   "execution_count": 35,
   "metadata": {
    "code_folding": [
     12
    ],
    "slideshow": {
     "slide_type": "subslide"
    }
   },
   "outputs": [
    {
     "name": "stdout",
     "output_type": "stream",
     "text": [
      "LogisticRegression accuracy: 90.0%\n"
     ]
    }
   ],
   "source": [
    "from sklearn.linear_model import LogisticRegression\n",
    "\n",
    "clf = LogisticRegression()\n",
    "clf.fit(X_train, y_train)\n",
    "score = clf.score(X_test, y_test)\n",
    "print(f\"{clf.__class__.__name__:s} accuracy: {score:.1%}\")\n",
    "\n",
    "save_vectorizer = False\n",
    "if save_vectorizer:\n",
    "    f_vect = \"data/sklearn_snarxiv_vectorizer.pkl\"\n",
    "    with open(f_vect, 'wb') as fp:\n",
    "        pickle.dump(vectorizer, fp)\n",
    "\n",
    "save_classifier = False\n",
    "if save_classifier:\n",
    "    f_model = \"data/sklearn_snarxiv_model.pkl\"\n",
    "    with open(f_model, 'wb') as fp:\n",
    "        pickle.dump(clf, fp)"
   ]
  },
  {
   "cell_type": "markdown",
   "metadata": {
    "slideshow": {
     "slide_type": "slide"
    }
   },
   "source": [
    "## Cross-validation\n",
    "To test the robustness of this results, do a few runs of cross-validation."
   ]
  },
  {
   "cell_type": "code",
   "execution_count": 36,
   "metadata": {
    "slideshow": {
     "slide_type": "subslide"
    }
   },
   "outputs": [
    {
     "name": "stdout",
     "output_type": "stream",
     "text": [
      "Scores:  [0.8625 0.8375 0.8375 0.8625 0.8125]\n",
      "Mean score: 0.84\n"
     ]
    }
   ],
   "source": [
    "from sklearn.model_selection import cross_val_score\n",
    "n_cv = 5\n",
    "scores = cross_val_score(clf, X_test, y_test, cv=5)\n",
    "print(\"Scores: \", scores)\n",
    "print(f\"Mean score: {np.mean(scores):.2f}\")"
   ]
  },
  {
   "cell_type": "markdown",
   "metadata": {
    "slideshow": {
     "slide_type": "slide"
    }
   },
   "source": [
    "## Neural network classifier\n",
    "Let's train a multi-layer perceptron (MLP) classifier."
   ]
  },
  {
   "cell_type": "code",
   "execution_count": 37,
   "metadata": {
    "slideshow": {
     "slide_type": "subslide"
    }
   },
   "outputs": [
    {
     "name": "stdout",
     "output_type": "stream",
     "text": [
      "MLPClassifier accuracy: 92.0%\n"
     ]
    },
    {
     "data": {
      "image/png": "[encoded data removed]",
      "text/plain": [
       "<Figure size 1080x288 with 1 Axes>"
      ]
     },
     "metadata": {
      "needs_background": "light"
     },
     "output_type": "display_data"
    }
   ],
   "source": [
    "from sklearn.neural_network import MLPClassifier\n",
    "clf = MLPClassifier(hidden_layer_sizes=(10,), alpha=1e-4, max_iter=300, random_state=1)\n",
    "clf.fit(X_train, y_train)\n",
    "score = clf.score(X_test, y_test)\n",
    "print(f\"{clf.__class__.__name__:s} accuracy: {score:.1%}\")\n",
    "\n",
    "plt.figure(figsize=(15,4))\n",
    "plt.plot(clf.loss_curve_, '-ok')\n",
    "plt.xlabel(\"iterations\")\n",
    "plt.xlabel(\"loss\")\n",
    "plt.title(\"MLP loss function\")\n",
    "plt.tight_layout()\n",
    "plt.show()"
   ]
  },
  {
   "cell_type": "markdown",
   "metadata": {
    "slideshow": {
     "slide_type": "subslide"
    }
   },
   "source": [
    "## Grid search optimization of MLP hyperparameters\n",
    "\n",
    "Do a gridsearch to find the optimum hyperparameter values for the MLP model and save the results.  \n",
    "This code block can take a while to complete. If you don't want to wait, skip the next code cell and reload pre-computed results in the next cell after that."
   ]
  },
  {
   "cell_type": "code",
   "execution_count": null,
   "metadata": {
    "slideshow": {
     "slide_type": "subslide"
    }
   },
   "outputs": [],
   "source": [
    "from sklearn.model_selection import GridSearchCV\n",
    "gs = GridSearchCV(\n",
    "    MLPClassifier(random_state=1, max_iter=300),\n",
    "    param_grid={\n",
    "        \"hidden_layer_sizes\": [10, 50, 100],\n",
    "        \"alpha\": [0.0001, 0.001, 0.01],\n",
    "    },\n",
    "    return_train_score=True,\n",
    ")\n",
    "gs.fit(X_train, y_train)\n",
    "#print(gs.cv_results_)\n",
    "f_gs = \"data/MLP_gridsearch_results.pkl\"\n",
    "with open(f_gs, 'wb') as fp: pickle.dump(gs.cv_results_, fp)"
   ]
  },
  {
   "cell_type": "markdown",
   "metadata": {},
   "source": [
    "Use pre-computed gridsearch results:"
   ]
  },
  {
   "cell_type": "code",
   "execution_count": 42,
   "metadata": {
    "slideshow": {
     "slide_type": "subslide"
    }
   },
   "outputs": [
    {
     "data": {
      "image/png": "[encoded data removed]",
      "text/plain": [
       "<Figure size 576x576 with 1 Axes>"
      ]
     },
     "metadata": {
      "needs_background": "light"
     },
     "output_type": "display_data"
    }
   ],
   "source": [
    "f_gs = \"data/MLP_gridsearch_results.pkl\"\n",
    "with open(f_gs, \"rb\") as fp: mlp_gs = pickle.load(fp, encoding='latin1')\n",
    "results = pd.DataFrame.from_dict(mlp_gs)\n",
    "#print(results.head())\n",
    "scores_matrix = results.pivot(\n",
    "    index=\"param_hidden_layer_sizes\", columns=\"param_alpha\", values=\"mean_test_score\"\n",
    ")\n",
    "#print(scores_matrix)\n",
    "\n",
    "hl_sizes = [10, 50, 100]\n",
    "alphas = [0.0001, 0.001, 0.01]\n",
    "\n",
    "# heatmap adapted from: \n",
    "# https://scikit-learn.org/stable/auto_examples/model_selection/plot_successive_halving_heatmap.html\n",
    "fig = plt.figure(figsize=(8,8))\n",
    "ax = plt.gca()\n",
    "ax.imshow(scores_matrix)\n",
    "ax.set_xticks(np.arange(len(alphas)))\n",
    "ax.set_xticklabels([\"{:.0E}\".format(x) for x in alphas])\n",
    "ax.set_xlabel(\"alpha\", fontsize=15)\n",
    "ax.set_yticks(np.arange(len(hl_sizes)))\n",
    "ax.set_yticklabels([\"{:.0f}\".format(x) for x in hl_sizes])\n",
    "ax.set_ylabel(\"hl size\", fontsize=15)\n",
    "for i in range(len(alphas)):\n",
    "    for j in range(len(hl_sizes)):\n",
    "        t = f\"{scores_matrix.loc[hl_sizes[j],alphas[i]]:.3f}\"\n",
    "        ax.text(j, i, t, ha=\"center\", va=\"center\", color=\"w\", fontsize=16)\n",
    "plt.title(\"GridSearchCV\", fontsize=20)\n",
    "plt.tight_layout()\n",
    "plt.show()"
   ]
  },
  {
   "cell_type": "markdown",
   "metadata": {},
   "source": [
    "## Random Forest classifier\n",
    "\n",
    "Training a Random Forest classifier allows us to inspect the feature importance of individual words.\n",
    "\n",
    "TODO: optimize hyperparameters"
   ]
  },
  {
   "cell_type": "code",
   "execution_count": 39,
   "metadata": {},
   "outputs": [
    {
     "name": "stdout",
     "output_type": "stream",
     "text": [
      "RandomForestClassifier accuracy: 87.8%\n"
     ]
    }
   ],
   "source": [
    "# setup and train the classifier\n",
    "from sklearn.ensemble import RandomForestClassifier\n",
    "rf = RandomForestClassifier(n_estimators=100) # 88.8%\n",
    "\n",
    "rf.fit(X_train, y_train)\n",
    "score = rf.score(X_test, y_test)\n",
    "print(f\"{rf.__class__.__name__:s} accuracy: {score:.1%}\")\n",
    "\n",
    "#from sklearn.ensemble import GradientBoostingClassifier\n",
    "#gb = GradientBoostingClassifier()"
   ]
  },
  {
   "cell_type": "markdown",
   "metadata": {},
   "source": [
    "Plot feature importances"
   ]
  },
  {
   "cell_type": "code",
   "execution_count": 40,
   "metadata": {},
   "outputs": [
    {
     "data": {
      "image/png": "[encoded data removed]",
      "text/plain": [
       "<Figure size 864x288 with 1 Axes>"
      ]
     },
     "metadata": {
      "needs_background": "light"
     },
     "output_type": "display_data"
    }
   ],
   "source": [
    "idx_sorted = np.argsort(rf.feature_importances_)[::-1] # descending: max (important) .... min (not important)\n",
    "vals_sorted = rf.feature_importances_[idx_sorted]\n",
    "plt.figure(figsize=(12,4))\n",
    "plt.plot(vals_sorted)\n",
    "plt.title(f\"Feature importances ({rf.__class__.__name__:s})\")\n",
    "plt.show()"
   ]
  },
  {
   "cell_type": "markdown",
   "metadata": {},
   "source": [
    "Print some features (words), ranked by descending feature importance (most important first)."
   ]
  },
  {
   "cell_type": "code",
   "execution_count": 103,
   "metadata": {},
   "outputs": [
    {
     "name": "stdout",
     "output_type": "stream",
     "text": [
      "             feature  importance\n",
      "rank                            \n",
      "0                and    0.040270\n",
      "1                 on    0.030029\n",
      "2            problem    0.022296\n",
      "3                 of    0.019055\n",
      "4             models    0.013809\n",
      "5               type    0.011959\n",
      "6                 in    0.011507\n",
      "7              black    0.011397\n",
      "8                for    0.010923\n",
      "9             notion    0.010161\n",
      "10           certain    0.010076\n",
      "11         instanton    0.009447\n",
      "12               the    0.007863\n",
      "13           strings    0.007656\n",
      "14              some    0.007623\n",
      "15    correspondence    0.007464\n",
      "16       orientifold    0.007264\n",
      "17             field    0.007150\n",
      "18             gauge    0.007029\n",
      "19           duality    0.006851\n"
     ]
    }
   ],
   "source": [
    "voc_inv = {v: k for k, v in voc.items()} # inverse vocabulary\n",
    "df = pd.DataFrame({\n",
    "    'feature' : [voc_inv[i] for i in range(len(rf.feature_importances_))],\n",
    "    'importance' : rf.feature_importances_,\n",
    "}).sort_values(by=['importance'], ascending=False)\n",
    "df['rank'] = range(len(rf.feature_importances_))\n",
    "df.index = df['rank']\n",
    "df.drop('rank', axis=1, inplace=True)\n",
    "print(df.head(20))\n",
    "#display(df)"
   ]
  },
  {
   "cell_type": "markdown",
   "metadata": {},
   "source": [
    "TODO: train without some of: `and, on of, in, for, the`"
   ]
  },
  {
   "cell_type": "markdown",
   "metadata": {
    "slideshow": {
     "slide_type": "slide"
    }
   },
   "source": [
    "## Test the classifier online\n",
    "\n",
    "On our test data set, we got a pretty nice classification accuracy.  \n",
    "You can apply the trained classifier to the [snarXiv-vs-arXiv](http://snarxiv.org/vs-arxiv/) online using an automated browser like Selenium, but it will be difficult (or impossible?) to display the new browser window through binder or kaggle. The code needed to run the classifier through Selenium is provided below (function `apply_model`) and a screen capture video is shown below that."
   ]
  },
  {
   "cell_type": "code",
   "execution_count": null,
   "metadata": {
    "code_folding": [
     0
    ],
    "slideshow": {
     "slide_type": "subslide"
    }
   },
   "outputs": [],
   "source": [
    "def apply_model(vectorizer=None, clf=None, n_total=1, verbose=False):\n",
    "    if not vectorizer:\n",
    "        # re-load vectorizer and model\n",
    "        f_vect = \"sklearn_snarxiv_vectorizer.pkl\"\n",
    "        with open(f_vect, 'rb') as fp:\n",
    "            vectorizer = pickle.load(fp)\n",
    "\n",
    "    if not clf:\n",
    "        f_model = \"sklearn_snarxiv_model.pkl\"\n",
    "        with open(f_model, 'rb') as fp:\n",
    "            clf = pickle.load(fp)\n",
    "\n",
    "    # connect to snarXiv\n",
    "    options = webdriver.FirefoxOptions()\n",
    "    options.add_argument(\"--headless\")\n",
    "    options.add_argument('--ignore-certificate-errors')\n",
    "    options.add_argument(\"--test-type\")\n",
    "    profile = webdriver.FirefoxProfile()\n",
    "    br = webdriver.Firefox(profile)\n",
    "    br.get(\"http://snarxiv.org/vs-arxiv\")\n",
    "\n",
    "    #n_total = 1000 # number of trials\n",
    "    n = 0 # counter\n",
    "    n_correct = nc = 0 # current number of correct answers\n",
    "\n",
    "    # collect titles for future training\n",
    "    while n <= n_total:\n",
    "        if verbose: print(f\"[+] Trial: {n:d}/{n_total:d}\")\n",
    "        # get DOM elements\n",
    "        c0 = br.find_element_by_class_name('corner-0')\n",
    "        h0 = c0.find_element_by_tag_name('h1')\n",
    "        a0 = h0.find_element_by_tag_name('a')\n",
    "        txt0 = a0.text.replace(\"Is this one real?\", \"\") # left title\n",
    "        c1 = br.find_element_by_class_name('corner-1')\n",
    "        h1 = c1.find_element_by_tag_name('h1')\n",
    "        a1 = h1.find_element_by_tag_name('a')\n",
    "        txt1 = a1.text.replace(\"Is this one real?\", \"\") # right title\n",
    "        # use the same preprocessing as during training\n",
    "        txt0 = preprocess(txt0)\n",
    "        txt1 = preprocess(txt1)\n",
    "        # transform title\n",
    "        x0 = vectorizer.transform([txt0])\n",
    "        x1 = vectorizer.transform([txt1])\n",
    "        # get classifier predictions\n",
    "        pred0 = clf.predict(x0)\n",
    "        pred1 = clf.predict(x1)\n",
    "        #print(\"Predictions: \", pred0, pred1)\n",
    "        # click the option with the higher classifier score\n",
    "        if pred0 >= pred1:\n",
    "            a0.click()\n",
    "        else:\n",
    "            a1.click()\n",
    "        # number of correct guesses\n",
    "        if n > 0:\n",
    "            s_nc = br.find_element_by_id('correct').text\n",
    "            try:\n",
    "                nc = int(s_nc) # string => int\n",
    "                if verbose: print(f\"\\tcorrect (nc = {nc:d})\")\n",
    "            except:\n",
    "                if verbose: print(\"error converting nc\")\n",
    "        n += 1\n",
    "        time.sleep(1)  # wait a sec, just in case...\n",
    "    print(f\"Classifier achieved {100.*nc/n:.1f}% accuracy online.\")\n",
    "    input(\"finished - quit?\")\n",
    "    br.quit()\n",
    "    print(\"browser closed.\")"
   ]
  },
  {
   "cell_type": "code",
   "execution_count": null,
   "metadata": {
    "slideshow": {
     "slide_type": "subslide"
    }
   },
   "outputs": [],
   "source": [
    "apply_model(vectorizer, clf, n_total=30, verbose=False)"
   ]
  },
  {
   "cell_type": "markdown",
   "metadata": {
    "slideshow": {
     "slide_type": "slide"
    }
   },
   "source": [
    "### Proof of concept\n",
    "Watch the classifier at work  \n",
    "<br>\n",
    "<video src=\"pics/snarxiv_MLPonline_test_crop.mp4\" width=600 controls=true>"
   ]
  },
  {
   "cell_type": "markdown",
   "metadata": {
    "slideshow": {
     "slide_type": "slide"
    }
   },
   "source": [
    "### Final note:\n",
    "There is an easy way to get *all* answers right. The arXiv-vs-snarXiv website sends a GET request to the server-side Python script http://snarxiv.org/py/fight.py which returns XML data. The XML data contains 'arxiv' and 'snarxiv' tags, from which the arXiv and snarXiv titles can be read even before submitting your answer (arrow in the image below). So don't be too impressed by the 100% high scores on http://snarxiv.org/vs-arxiv/highscores/. \n",
    "\n",
    "<img src=\"pics/network_screenshot2.png\" width=1000 controls=true>"
   ]
  }
 ],
 "metadata": {
  "celltoolbar": "Slideshow",
  "kernelspec": {
   "display_name": "Python 3",
   "language": "python",
   "name": "python3"
  },
  "language_info": {
   "codemirror_mode": {
    "name": "ipython",
    "version": 3
   },
   "file_extension": ".py",
   "mimetype": "text/x-python",
   "name": "python",
   "nbconvert_exporter": "python",
   "pygments_lexer": "ipython3",
   "version": "3.6.9"
  },
  "toc": {
   "base_numbering": 1,
   "nav_menu": {},
   "number_sections": false,
   "sideBar": true,
   "skip_h1_title": false,
   "title_cell": "Table of Contents",
   "title_sidebar": "Contents",
   "toc_cell": false,
   "toc_position": {},
   "toc_section_display": true,
   "toc_window_display": true
  },
  "varInspector": {
   "cols": {
    "lenName": 16,
    "lenType": 16,
    "lenVar": 40
   },
   "kernels_config": {
    "python": {
     "delete_cmd_postfix": "",
     "delete_cmd_prefix": "del ",
     "library": "var_list.py",
     "varRefreshCmd": "print(var_dic_list())"
    },
    "r": {
     "delete_cmd_postfix": ") ",
     "delete_cmd_prefix": "rm(",
     "library": "var_list.r",
     "varRefreshCmd": "cat(var_dic_list()) "
    }
   },
   "types_to_exclude": [
    "module",
    "function",
    "builtin_function_or_method",
    "instance",
    "_Feature"
   ],
   "window_display": false
  }
 },
 "nbformat": 4,
 "nbformat_minor": 4
}
