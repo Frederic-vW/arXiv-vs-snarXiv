{
 "cells": [
  {
   "cell_type": "markdown",
   "metadata": {
    "slideshow": {
     "slide_type": "slide"
    }
   },
   "source": [
    "<img src=\"pics/arxiv_vs_snarxiv_logo.png\" width=300>\n",
    "\n",
    "# Can snarXiv-vs-arXiv be learned?\n",
    "\n",
    "**Background**  \n",
    "The [snarXiv-vs-arXiv](http://snarxiv.org/vs-arxiv/) website challenges you to tell fake physics research articles from real ones. Real paper titles are taken from [arXiv](https://arxiv.org/), fake titles are produced by a so-called context-free grammar. The snarXiv code is freely available ([link](https://github.com/davidsd/snarxiv)). \n",
    "\n",
    "**Aim**  \n",
    "Develop a supervised learning algorithm to correctly classify arXiv vs. snarXiv titles.\n",
    "\n",
    "**Method**  \n",
    "- use selenium webdriver to scrape a number of titles from the website and parse the correct labels after clicking one of the titles; save this dataset for training/testing\n",
    "- natural-language processing (NLP): transform the paper titles into a bag-of-words (BOW) model and vectorize\n",
    "- train and optimize a classifier (scikit-learn)\n",
    "- testing: apply the learned classifier to the snarXiv website\n",
    "\n",
    "**Results**  \n",
    "- classifiers reach around 90% accuracy on test data sets"
   ]
  },
  {
   "cell_type": "code",
   "execution_count": 1,
   "metadata": {
    "slideshow": {
     "slide_type": "slide"
    }
   },
   "outputs": [],
   "source": [
    "import numpy as np\n",
    "import matplotlib.pyplot as plt\n",
    "import pandas as pd\n",
    "import pickle\n",
    "import time\n",
    "from selenium import webdriver"
   ]
  },
  {
   "cell_type": "markdown",
   "metadata": {
    "slideshow": {
     "slide_type": "slide"
    }
   },
   "source": [
    "## Download a training data set (*optional*)\n",
    "\n",
    "This step is optional, the repo contains a training data set.   \n",
    "The function below uses [Selenium](https://www.selenium.dev/documentation/) in order to: \n",
    "1. Scrape a number `2*n_total` of titles from http://snarxiv.org/vs-arxiv/\n",
    "2. Clicks the left title and \n",
    "3. Parses the website's answer to get the correct label for that title.  \n",
    "\n",
    "The results are stored in a Python dictionary (and optionally written to a file). You should get approximately `n_total` arXiv and `n_total` snarXiv samples.  \n",
    "\n",
    "**Note**: Selenium needs the webdriver file. I get my Firefox geckodriver from https://github.com/mozilla/geckodriver/releases. More info at: https://github.com/mozilla/geckodriver\n"
   ]
  },
  {
   "cell_type": "code",
   "execution_count": null,
   "metadata": {
    "code_folding": [
     0
    ],
    "slideshow": {
     "slide_type": "subslide"
    }
   },
   "outputs": [],
   "source": [
    "def download(n_total=10, verbose=False):\n",
    "    \"\"\"\n",
    "    Download 2n samples from: http://snarxiv.org/vs-arxiv\"\n",
    "    \"\"\"\n",
    "    options = webdriver.FirefoxOptions()\n",
    "    options.add_argument(\"--headless\")\n",
    "    options.add_argument('--ignore-certificate-errors')\n",
    "    options.add_argument(\"--test-type\")\n",
    "    profile = webdriver.FirefoxProfile()\n",
    "    br = webdriver.Firefox(profile)\n",
    "    br.get(\"http://snarxiv.org/vs-arxiv\")\n",
    "\n",
    "    n = 0 # counter\n",
    "    n_correct = nc = 0 # current number of correct answers\n",
    "    real_titles = []\n",
    "    fake_titles = []\n",
    "    while n <= n_total:\n",
    "        if verbose: print(f\"[+] Trial: {n:d}/{n_total:d}\")\n",
    "        # get DOM elements\n",
    "        c0 = br.find_element_by_class_name('corner-0')\n",
    "        h0 = c0.find_element_by_tag_name('h1')\n",
    "        a0 = h0.find_element_by_tag_name('a')\n",
    "        txt0 = a0.text.replace(\"Is this one real?\", \"\") # left title\n",
    "        c1 = br.find_element_by_class_name('corner-1')\n",
    "        h1 = c1.find_element_by_tag_name('h1')\n",
    "        a1 = h1.find_element_by_tag_name('a')\n",
    "        txt1 = a1.text.replace(\"Is this one real?\", \"\") # right title\n",
    "        # always click left and parse true/false (arXiv/snarXiv) from the updated score\n",
    "        a0.click()\n",
    "        # number of correct guesses\n",
    "        if n > 0:\n",
    "            # DOM element indicating the current number of correct answers\n",
    "            s_nc = br.find_element_by_id('correct').text\n",
    "            try:\n",
    "                nc = int(s_nc) # string => int\n",
    "                if nc > n_correct:\n",
    "                    # latest answer was correct\n",
    "                    if verbose: print(f\"\\tcorrect (nc = {nc:d})\")\n",
    "                    n_correct = nc # update n_correct\n",
    "                    real_titles.append(txt0) # left: correct\n",
    "                    fake_titles.append(txt1) # right: wrong\n",
    "                else:\n",
    "                    # latest answer was not correct\n",
    "                    if verbose: print(f\"\\twrong (nc = {nc:d})\")\n",
    "                    fake_titles.append(txt0) # left: wrong\n",
    "                    real_titles.append(txt1) # right: correct\n",
    "            except:\n",
    "                # shouldn't occur, just skip and continue if it occurs\n",
    "                print(\"error converting nc\")\n",
    "        n += 1\n",
    "        time.sleep(1)  # wait a sec, just in case...\n",
    "    #input(\"finished - quit?\")\n",
    "    br.quit()\n",
    "    print(\"browser closed.\")\n",
    "\n",
    "    # review results\n",
    "    if verbose:\n",
    "        print(\"\\n[+] Real titles\")\n",
    "        for i, title in enumerate(real_titles):\n",
    "            print(f\"\\n#{i:d}\\n{title:s}\")\n",
    "        print(\"\\n[+] Fake titles\")\n",
    "        for i, title in enumerate(fake_titles):\n",
    "            print(f\"\\n#{i:d}\\n{title:s}\")\n",
    "    \n",
    "    # save\n",
    "    f_out = f\"data/training_data.pkl\"\n",
    "    d = {'real' : real_titles, 'fake' : fake_titles}\n",
    "    with open(f_out, \"wb\") as fp:\n",
    "        pickle.dump(d, fp, pickle.HIGHEST_PROTOCOL)\n",
    "    \n",
    "    # for processing further down\n",
    "    return real_titles, fake_titles\n",
    "\n",
    "real, fake = download(n_total=10, verbose=False)"
   ]
  },
  {
   "cell_type": "markdown",
   "metadata": {
    "slideshow": {
     "slide_type": "slide"
    }
   },
   "source": [
    "## Load standard training data set\n",
    "If you haven't downloaded your own training data set, you can work with the standard training data set."
   ]
  },
  {
   "cell_type": "code",
   "execution_count": 2,
   "metadata": {
    "code_folding": [
     0
    ],
    "slideshow": {
     "slide_type": "subslide"
    }
   },
   "outputs": [
    {
     "name": "stdout",
     "output_type": "stream",
     "text": [
      "Loaded n=1000 real and n=1000 fake samples.\n"
     ]
    }
   ],
   "source": [
    "def reload(filename):\n",
    "    \"\"\"\n",
    "    re-load and analyze samples\n",
    "    \"\"\"\n",
    "    with open(filename, \"rb\") as fp:\n",
    "        d = pickle.load(fp, encoding='latin1')\n",
    "    real = d['real']\n",
    "    fake = d['fake']\n",
    "    print(f\"Loaded n={len(real):d} real and n={len(fake):d} fake samples.\")\n",
    "    return real, fake\n",
    "\n",
    "f_data = f\"data/training_data_std.pkl\"  # 1000 titles each\n",
    "real, fake = reload(f_data)"
   ]
  },
  {
   "cell_type": "markdown",
   "metadata": {
    "slideshow": {
     "slide_type": "slide"
    }
   },
   "source": [
    "## Examples\n",
    "To better understand the problem, let's have a look at a few titles. Most people have difficulties deciding which titles stem from real papers and which were produced by the context-free grammar. "
   ]
  },
  {
   "cell_type": "code",
   "execution_count": 3,
   "metadata": {
    "slideshow": {
     "slide_type": "subslide"
    }
   },
   "outputs": [
    {
     "name": "stdout",
     "output_type": "stream",
     "text": [
      "Some real (arXiv) examples: \n",
      "==============================\n",
      "#0: Exact Effective Action for (1+1 Dimensional) Fermions in an Abelian Background at Finite Temperature\n",
      "#1: Four Quark Cn - Nbar Cbar States in U(12)-Scheme and X(3872)/Y(3940)\n",
      "#2: A Heavy Higgs and a Light Sneutrino NLSP in the MSSM With Enhanced SU(2) D-terms\n",
      "#3: Exact Analytic Two-loop Expressions for Some QCD Observables in the Time-like Region\n",
      "#4: Lattice Ising Model in a Field: E$_8$ Scattering Theory\n",
      "\n",
      "Some fake (snarXiv) examples: \n",
      "==============================\n",
      "#0: On Invertible QED_3\n",
      "#1: Anomaly Matching in Deformed QFTs\n",
      "#2: The Multi-field Solution to the LHC Inverse Problem From Inflaton Models (Including the Lithium Problem)\n",
      "#3: The Holographic Entanglement of Purification of De Sitter Space in a Nonperturbative Nonperturbative Twisted QFT\n",
      "#4: Models of Ghosts in Causality\n"
     ]
    }
   ],
   "source": [
    "print(\"Some real (arXiv) examples: \\n\" + 30*\"=\")\n",
    "for i, r in enumerate(real[:5]): print(f\"#{i:d}: {r.strip():s}\", end=\"\\n\")\n",
    "print(\"\\nSome fake (snarXiv) examples: \\n\" + 30*\"=\")\n",
    "for i, f in enumerate(fake[:5]): print(f\"#{i:d}: {f.strip():s}\", end=\"\\n\")"
   ]
  },
  {
   "cell_type": "markdown",
   "metadata": {
    "slideshow": {
     "slide_type": "slide"
    }
   },
   "source": [
    "## Text pre-processing\n",
    "NLP algorithms usually pre-process text data. Common pre-processing steps involve:\n",
    "- removal of punctuation (e.g.: ,.;!?)\n",
    "- stemming (insert link)\n",
    "\n",
    "Here, we will just apply a very basic pre-processing:\n",
    "1. Strip trailing \"\\n\" characters\n",
    "2. Replace \"blank-dash-blank\" by \"dash\", e.g. \"Quark Cn - Nbar Cbar States\" => \"Quark Cn-Nbar Cbar States\"\n",
    "3. Replace \"blank-arrow-blank\" by \"arrow\", e.g. \"the B -> X_s Gamma Matrix\" => \"the B->X_s Gamma Matrix\"\n",
    "4. Convert all expressions to lowercase\n",
    "\n",
    "Points 2. and 3. are necessary to avoid splitting expressions such as \"Cn - Nbar\" into [\"Cn\", \"-\", \"Nbar\"] when titles will be processed by the vectorizer. "
   ]
  },
  {
   "cell_type": "code",
   "execution_count": 4,
   "metadata": {
    "slideshow": {
     "slide_type": "subslide"
    }
   },
   "outputs": [],
   "source": [
    "preprocess = lambda s: s.strip().replace(\" - \", \"-\").replace(\" -> \", \"->\").lower()"
   ]
  },
  {
   "cell_type": "markdown",
   "metadata": {
    "slideshow": {
     "slide_type": "slide"
    }
   },
   "source": [
    "## Get a bag-of-words (bow) and target labels"
   ]
  },
  {
   "cell_type": "code",
   "execution_count": 5,
   "metadata": {
    "code_folding": [
     0
    ],
    "slideshow": {
     "slide_type": "subslide"
    }
   },
   "outputs": [],
   "source": [
    "def bow(real, fake):\n",
    "    \"\"\"\n",
    "    Bag Of Words\n",
    "    \"\"\"\n",
    "    all_titles = [preprocess(title) for title in real+fake]\n",
    "    y = np.concatenate( (np.ones(len(real)), np.zeros(len(fake))) ) # target values (real: 1, fake: 0)\n",
    "    return all_titles, y\n",
    "\n",
    "titles, y = bow(real, fake)"
   ]
  },
  {
   "cell_type": "markdown",
   "metadata": {
    "slideshow": {
     "slide_type": "slide"
    }
   },
   "source": [
    "## Train-test split\n",
    "Do an 80-20 split on the data, retaining 20% for final performance evaluation."
   ]
  },
  {
   "cell_type": "code",
   "execution_count": 6,
   "metadata": {
    "slideshow": {
     "slide_type": "subslide"
    }
   },
   "outputs": [],
   "source": [
    "from sklearn.model_selection import train_test_split #, StratifiedShuffleSplit\n",
    "titles_train, titles_test, y_train, y_test = train_test_split(titles, y, test_size=0.2, random_state=1)"
   ]
  },
  {
   "cell_type": "markdown",
   "metadata": {
    "slideshow": {
     "slide_type": "slide"
    }
   },
   "source": [
    "## Vectorizer transform\n",
    "Next, the text data will be transformed to numbers, in order to work with numerical methods such as logistic regression, among others.  \n",
    "\n",
    "**Options**:\n",
    "- CountVectorizer\n",
    "- TfidfVectorizer\n",
    "\n",
    "**Note:** The vectorizer has to be trained on the *complete* data set. If the vectorizer is built on the training data set alone, some words in the testing data set may not be recognized."
   ]
  },
  {
   "cell_type": "code",
   "execution_count": 7,
   "metadata": {
    "slideshow": {
     "slide_type": "subslide"
    }
   },
   "outputs": [
    {
     "name": "stdout",
     "output_type": "stream",
     "text": [
      "Vocabulary size:  2000  words.\n"
     ]
    }
   ],
   "source": [
    "from sklearn.feature_extraction.text import CountVectorizer, TfidfVectorizer\n",
    "vectorizer = CountVectorizer(max_features=2000)\n",
    "#vectorizer = TfidfVectorizer(max_features=2000)\n",
    "vectorizer.fit(titles) # titles_train\n",
    "print(\"Vocabulary size: \", len(vectorizer.vocabulary_), \" words.\")"
   ]
  },
  {
   "cell_type": "markdown",
   "metadata": {
    "slideshow": {
     "slide_type": "slide"
    }
   },
   "source": [
    "### Apply vectorizer to train and test data"
   ]
  },
  {
   "cell_type": "code",
   "execution_count": 8,
   "metadata": {
    "slideshow": {
     "slide_type": "subslide"
    }
   },
   "outputs": [
    {
     "name": "stdout",
     "output_type": "stream",
     "text": [
      "Training and test data vectorized. (1600, 2000) (400, 2000)\n"
     ]
    }
   ],
   "source": [
    "X_train = vectorizer.transform(titles_train)\n",
    "X_test = vectorizer.transform(titles_test)\n",
    "print(\"Training and test data vectorized.\", X_train.shape, X_test.shape)"
   ]
  },
  {
   "cell_type": "markdown",
   "metadata": {
    "slideshow": {
     "slide_type": "slide"
    }
   },
   "source": [
    "**Side note:** What does the vectorizer do?"
   ]
  },
  {
   "cell_type": "code",
   "execution_count": 9,
   "metadata": {
    "code_folding": [],
    "slideshow": {
     "slide_type": "subslide"
    }
   },
   "outputs": [
    {
     "name": "stdout",
     "output_type": "stream",
     "text": [
      "Vocabulary dict:  {'this': 4, 'book': 0, 'is': 1, 'not': 3, 'my': 2}\n",
      "\n",
      "Sentence transformed to array:\n",
      " [[0 0 0 0 1]\n",
      " [1 0 0 0 0]\n",
      " [0 1 0 0 0]\n",
      " [0 0 0 1 0]\n",
      " [0 0 1 0 0]\n",
      " [1 0 0 0 0]]\n",
      "\n",
      "Explanation: \n",
      "'this' encoded as a vector:  [0 0 0 0 1]  because voc['this'] =  4\n",
      "'book' encoded as a vector:  [1 0 0 0 0]  because voc['book'] =  0\n",
      "'is' encoded as a vector:  [0 1 0 0 0]  because voc['is'] =  1\n",
      "'not' encoded as a vector:  [0 0 0 1 0]  because voc['not'] =  3\n",
      "'my' encoded as a vector:  [0 0 1 0 0]  because voc['my'] =  2\n",
      "'book' encoded as a vector:  [1 0 0 0 0]  because voc['book'] =  0\n"
     ]
    }
   ],
   "source": [
    "# count vectorizer\n",
    "X = \"this book is not my book\".split()\n",
    "vec2 = CountVectorizer().fit(X)\n",
    "voc = vec2.vocabulary_\n",
    "print(\"Vocabulary dict: \", voc) # <class 'dict'> 2358\n",
    "Y = vec2.transform(X).toarray()\n",
    "print(\"\\nSentence transformed to array:\\n\", Y)\n",
    "print(\"\\nExplanation: \")\n",
    "for i, x in enumerate(X):\n",
    "    print(f\"'{x:s}' encoded as a vector: \", Y[i,:], f\" because voc['{x:s}'] = \", voc[x])\n",
    "del X, Y"
   ]
  },
  {
   "cell_type": "markdown",
   "metadata": {
    "slideshow": {
     "slide_type": "slide"
    }
   },
   "source": [
    "## First ML approach: logistic regression\n",
    "\n",
    "Data and target labels are prepared, time to train a classifier."
   ]
  },
  {
   "cell_type": "code",
   "execution_count": 10,
   "metadata": {
    "code_folding": [
     12
    ],
    "slideshow": {
     "slide_type": "subslide"
    }
   },
   "outputs": [
    {
     "name": "stdout",
     "output_type": "stream",
     "text": [
      "LogisticRegression accuracy: 90.0%\n"
     ]
    }
   ],
   "source": [
    "from sklearn.linear_model import LogisticRegression\n",
    "\n",
    "clf = LogisticRegression()\n",
    "clf.fit(X_train, y_train)\n",
    "score = clf.score(X_test, y_test)\n",
    "print(f\"{clf.__class__.__name__:s} accuracy: {score:.1%}\")\n",
    "\n",
    "save_vectorizer = False\n",
    "if save_vectorizer:\n",
    "    f_vect = \"data/sklearn_snarxiv_vectorizer.pkl\"\n",
    "    with open(f_vect, 'wb') as fp:\n",
    "        pickle.dump(vectorizer, fp)\n",
    "\n",
    "save_classifier = False\n",
    "if save_classifier:\n",
    "    f_model = \"data/sklearn_snarxiv_model.pkl\"\n",
    "    with open(f_model, 'wb') as fp:\n",
    "        pickle.dump(clf, fp)"
   ]
  },
  {
   "cell_type": "markdown",
   "metadata": {
    "slideshow": {
     "slide_type": "slide"
    }
   },
   "source": [
    "## Cross-validation\n",
    "To test the robustness of this results, do a few runs of cross-validation."
   ]
  },
  {
   "cell_type": "code",
   "execution_count": 11,
   "metadata": {
    "slideshow": {
     "slide_type": "subslide"
    }
   },
   "outputs": [
    {
     "name": "stdout",
     "output_type": "stream",
     "text": [
      "Scores:  [0.8625 0.8375 0.8375 0.8625 0.8125]\n",
      "Mean score: 0.84\n"
     ]
    }
   ],
   "source": [
    "from sklearn.model_selection import cross_val_score\n",
    "n_cv = 5\n",
    "scores = cross_val_score(clf, X_test, y_test, cv=5)\n",
    "print(\"Scores: \", scores)\n",
    "print(f\"Mean score: {np.mean(scores):.2f}\")"
   ]
  },
  {
   "cell_type": "markdown",
   "metadata": {
    "slideshow": {
     "slide_type": "slide"
    }
   },
   "source": [
    "## Other classifiers\n",
    "A few other scikit-learn classifiers to play with..."
   ]
  },
  {
   "cell_type": "code",
   "execution_count": 12,
   "metadata": {
    "slideshow": {
     "slide_type": "subslide"
    }
   },
   "outputs": [
    {
     "name": "stdout",
     "output_type": "stream",
     "text": [
      "MLPClassifier accuracy: 92.0%\n"
     ]
    },
    {
     "data": {
      "image/png": "[encoded data removed]",
      "text/plain": [
       "<Figure size 1080x288 with 1 Axes>"
      ]
     },
     "metadata": {
      "needs_background": "light"
     },
     "output_type": "display_data"
    }
   ],
   "source": [
    "#from sklearn.ensemble import RandomForestClassifier\n",
    "#clf = RandomForestClassifier(n_estimators=100) # 88.8%\n",
    "\n",
    "#from sklearn.ensemble import GradientBoostingClassifier\n",
    "#clf = GradientBoostingClassifier()\n",
    "\n",
    "from sklearn.neural_network import MLPClassifier\n",
    "clf = MLPClassifier(hidden_layer_sizes=(10,), alpha=1e-4, max_iter=300, random_state=1)\n",
    "clf.fit(X_train, y_train)\n",
    "score = clf.score(X_test, y_test)\n",
    "print(f\"{clf.__class__.__name__:s} accuracy: {score:.1%}\")\n",
    "\n",
    "plt.figure(figsize=(15,4))\n",
    "plt.plot(clf.loss_curve_, '-ok')\n",
    "plt.xlabel(\"iterations\")\n",
    "plt.xlabel(\"loss\")\n",
    "plt.title(\"MLP loss function\")\n",
    "plt.tight_layout()\n",
    "plt.show()"
   ]
  },
  {
   "cell_type": "markdown",
   "metadata": {
    "slideshow": {
     "slide_type": "subslide"
    }
   },
   "source": [
    "## Grid search optimization of hyperparameters\n",
    "\n",
    "Do a gridsearch to find optimum hyperparameter values, save the results.  \n",
    "This code block can take a while to complete."
   ]
  },
  {
   "cell_type": "code",
   "execution_count": 15,
   "metadata": {
    "slideshow": {
     "slide_type": "subslide"
    }
   },
   "outputs": [],
   "source": [
    "from sklearn.model_selection import GridSearchCV\n",
    "gs = GridSearchCV(\n",
    "    MLPClassifier(random_state=1, max_iter=300),\n",
    "    param_grid={\n",
    "        \"hidden_layer_sizes\": [10, 50, 100],\n",
    "        \"alpha\": [0.0001, 0.001, 0.01],\n",
    "    },\n",
    "    return_train_score=True,\n",
    ")\n",
    "gs.fit(X_train, y_train)\n",
    "#print(gs.cv_results_)\n",
    "f_gs = \"data/MLP_gridsearch_results.pkl\"\n",
    "with open(f_gs, 'wb') as fp: pickle.dump(gs.cv_results_, fp)"
   ]
  },
  {
   "cell_type": "code",
   "execution_count": 16,
   "metadata": {
    "slideshow": {
     "slide_type": "subslide"
    }
   },
   "outputs": [
    {
     "data": {
      "image/png": "[encoded data removed]",
      "text/plain": [
       "<Figure size 576x576 with 1 Axes>"
      ]
     },
     "metadata": {
      "needs_background": "light"
     },
     "output_type": "display_data"
    }
   ],
   "source": [
    "f_gs = \"data/MLP_gridsearch_results.pkl\"\n",
    "with open(f_gs, \"rb\") as fp: mlp_gs = pickle.load(fp, encoding='latin1')\n",
    "results = pd.DataFrame.from_dict(mlp_gs)\n",
    "#print(results.head())\n",
    "scores_matrix = results.pivot(\n",
    "    index=\"param_hidden_layer_sizes\", columns=\"param_alpha\", values=\"mean_test_score\"\n",
    ")\n",
    "#print(scores_matrix)\n",
    "\n",
    "hl_sizes = [10, 50, 100]\n",
    "alphas = [0.0001, 0.001, 0.01]\n",
    "\n",
    "# heatmap adapted from: \n",
    "# https://scikit-learn.org/stable/auto_examples/model_selection/plot_successive_halving_heatmap.html\n",
    "fig = plt.figure(figsize=(8,8))\n",
    "ax = plt.gca()\n",
    "ax.imshow(scores_matrix)\n",
    "ax.set_xticks(np.arange(len(alphas)))\n",
    "ax.set_xticklabels([\"{:.0E}\".format(x) for x in alphas])\n",
    "ax.set_xlabel(\"alpha\", fontsize=15)\n",
    "ax.set_yticks(np.arange(len(hl_sizes)))\n",
    "ax.set_yticklabels([\"{:.0f}\".format(x) for x in hl_sizes])\n",
    "ax.set_ylabel(\"hl size\", fontsize=15)\n",
    "for i in range(len(alphas)):\n",
    "    for j in range(len(hl_sizes)):\n",
    "        t = f\"{scores_matrix.loc[hl_sizes[j],alphas[i]]:.3f}\"\n",
    "        ax.text(j, i, t, ha=\"center\", va=\"center\", color=\"w\", fontsize=16)\n",
    "plt.title(\"GridSearchCV\", fontsize=20)\n",
    "plt.tight_layout()\n",
    "plt.show()"
   ]
  },
  {
   "cell_type": "markdown",
   "metadata": {
    "slideshow": {
     "slide_type": "slide"
    }
   },
   "source": [
    "## Test the classifier online\n",
    "\n",
    "On our test data set, we got a pretty nice classification accuracy.  \n",
    "It would be much nicer to see the classifier perform online, so let's do that. Again, we will use Selenium to interact with the [snarXiv-vs-arXiv](http://snarxiv.org/vs-arxiv/) website automatically.  \n",
    "Sit back and enjoy the game!"
   ]
  },
  {
   "cell_type": "code",
   "execution_count": null,
   "metadata": {
    "code_folding": [
     0
    ],
    "slideshow": {
     "slide_type": "subslide"
    }
   },
   "outputs": [],
   "source": [
    "def apply_model(vectorizer=None, clf=None, n_total=1, verbose=False):\n",
    "    if not vectorizer:\n",
    "        # re-load vectorizer and model\n",
    "        f_vect = \"sklearn_snarxiv_vectorizer.pkl\"\n",
    "        with open(f_vect, 'rb') as fp:\n",
    "            vectorizer = pickle.load(fp)\n",
    "\n",
    "    if not clf:\n",
    "        f_model = \"sklearn_snarxiv_model.pkl\"\n",
    "        with open(f_model, 'rb') as fp:\n",
    "            clf = pickle.load(fp)\n",
    "\n",
    "    # connect to snarXiv\n",
    "    options = webdriver.FirefoxOptions()\n",
    "    options.add_argument(\"--headless\")\n",
    "    options.add_argument('--ignore-certificate-errors')\n",
    "    options.add_argument(\"--test-type\")\n",
    "    profile = webdriver.FirefoxProfile()\n",
    "    br = webdriver.Firefox(profile)\n",
    "    br.get(\"http://snarxiv.org/vs-arxiv\")\n",
    "\n",
    "    #n_total = 1000 # number of trials\n",
    "    n = 0 # counter\n",
    "    n_correct = nc = 0 # current number of correct answers\n",
    "\n",
    "    # collect titles for future training\n",
    "    while n <= n_total:\n",
    "        if verbose: print(f\"[+] Trial: {n:d}/{n_total:d}\")\n",
    "        # get DOM elements\n",
    "        c0 = br.find_element_by_class_name('corner-0')\n",
    "        h0 = c0.find_element_by_tag_name('h1')\n",
    "        a0 = h0.find_element_by_tag_name('a')\n",
    "        txt0 = a0.text.replace(\"Is this one real?\", \"\") # left title\n",
    "        c1 = br.find_element_by_class_name('corner-1')\n",
    "        h1 = c1.find_element_by_tag_name('h1')\n",
    "        a1 = h1.find_element_by_tag_name('a')\n",
    "        txt1 = a1.text.replace(\"Is this one real?\", \"\") # right title\n",
    "        # use the same preprocessing as during training\n",
    "        txt0 = preprocess(txt0)\n",
    "        txt1 = preprocess(txt1)\n",
    "        # transform title\n",
    "        x0 = vectorizer.transform([txt0])\n",
    "        x1 = vectorizer.transform([txt1])\n",
    "        # get classifier predictions\n",
    "        pred0 = clf.predict(x0)\n",
    "        pred1 = clf.predict(x1)\n",
    "        #print(\"Predictions: \", pred0, pred1)\n",
    "        # click the option with the higher classifier score\n",
    "        if pred0 >= pred1:\n",
    "            a0.click()\n",
    "        else:\n",
    "            a1.click()\n",
    "        # number of correct guesses\n",
    "        if n > 0:\n",
    "            s_nc = br.find_element_by_id('correct').text\n",
    "            try:\n",
    "                nc = int(s_nc) # string => int\n",
    "                if verbose: print(f\"\\tcorrect (nc = {nc:d})\")\n",
    "            except:\n",
    "                if verbose: print(\"error converting nc\")\n",
    "        n += 1\n",
    "        time.sleep(1)  # wait a sec, just in case...\n",
    "    print(f\"Classifier achieved {100.*nc/n:.1f}% accuracy online.\")\n",
    "    input(\"finished - quit?\")\n",
    "    br.quit()\n",
    "    print(\"browser closed.\")"
   ]
  },
  {
   "cell_type": "code",
   "execution_count": null,
   "metadata": {
    "slideshow": {
     "slide_type": "subslide"
    }
   },
   "outputs": [],
   "source": [
    "apply_model(vectorizer, clf, n_total=30, verbose=False)"
   ]
  },
  {
   "cell_type": "markdown",
   "metadata": {
    "slideshow": {
     "slide_type": "slide"
    }
   },
   "source": [
    "### Proof of concept\n",
    "Watch the classifier at work  \n",
    "<br>\n",
    "<video src=\"pics/snarxiv_MLPonline_test_crop.mp4\" width=600 controls=true>"
   ]
  },
  {
   "cell_type": "markdown",
   "metadata": {
    "slideshow": {
     "slide_type": "slide"
    }
   },
   "source": [
    "### Final note:\n",
    "There is an easy way to get *all* answers right. The snarXiv-vs-arXiv web app sends a GET request to the `fight.py` server-side app. The response to this GET request contains the correct answer. As shown below, only the \"Time-reversal...\" title has a valid arXiv link (white arrow).\n",
    "\n",
    "<img src=\"pics/network_screenshot2.png\" width=1000 controls=true>"
   ]
  }
 ],
 "metadata": {
  "celltoolbar": "Slideshow",
  "kernelspec": {
   "display_name": "Python 3",
   "language": "python",
   "name": "python3"
  },
  "language_info": {
   "codemirror_mode": {
    "name": "ipython",
    "version": 3
   },
   "file_extension": ".py",
   "mimetype": "text/x-python",
   "name": "python",
   "nbconvert_exporter": "python",
   "pygments_lexer": "ipython3",
   "version": "3.6.9"
  },
  "toc": {
   "base_numbering": 1,
   "nav_menu": {},
   "number_sections": false,
   "sideBar": true,
   "skip_h1_title": false,
   "title_cell": "Table of Contents",
   "title_sidebar": "Contents",
   "toc_cell": false,
   "toc_position": {},
   "toc_section_display": true,
   "toc_window_display": true
  },
  "varInspector": {
   "cols": {
    "lenName": 16,
    "lenType": 16,
    "lenVar": 40
   },
   "kernels_config": {
    "python": {
     "delete_cmd_postfix": "",
     "delete_cmd_prefix": "del ",
     "library": "var_list.py",
     "varRefreshCmd": "print(var_dic_list())"
    },
    "r": {
     "delete_cmd_postfix": ") ",
     "delete_cmd_prefix": "rm(",
     "library": "var_list.r",
     "varRefreshCmd": "cat(var_dic_list()) "
    }
   },
   "types_to_exclude": [
    "module",
    "function",
    "builtin_function_or_method",
    "instance",
    "_Feature"
   ],
   "window_display": false
  }
 },
 "nbformat": 4,
 "nbformat_minor": 4
}
